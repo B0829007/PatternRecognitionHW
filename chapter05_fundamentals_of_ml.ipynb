{
  "cells": [
    {
      "cell_type": "markdown",
      "metadata": {
        "id": "cV4-2r2R82Jr"
      },
      "source": [
        "This is a companion notebook for the book [Deep Learning with Python, Second Edition](https://www.manning.com/books/deep-learning-with-python-second-edition?a_aid=keras&a_bid=76564dff). For readability, it only contains runnable code blocks and section titles, and omits everything else in the book: text paragraphs, figures, and pseudocode.\n",
        "\n",
        "**If you want to be able to follow what's going on, I recommend reading the notebook side by side with your copy of the book.**\n",
        "\n",
        "This notebook was generated for TensorFlow 2.6."
      ]
    },
    {
      "cell_type": "markdown",
      "metadata": {
        "id": "Ad0tXfMy82Jx"
      },
      "source": [
        "# Fundamentals of machine learning"
      ]
    },
    {
      "cell_type": "markdown",
      "metadata": {
        "id": "lkY8N0Ck82Jx"
      },
      "source": [
        "## Generalization: The goal of machine learning"
      ]
    },
    {
      "cell_type": "markdown",
      "metadata": {
        "id": "WiqqdAIu82Jy"
      },
      "source": [
        "### Underfitting and overfitting"
      ]
    },
    {
      "cell_type": "markdown",
      "metadata": {
        "id": "uZIZo1dk82Jz"
      },
      "source": [
        "#### Noisy training data"
      ]
    },
    {
      "cell_type": "markdown",
      "metadata": {
        "id": "6FE2ZgdT82J0"
      },
      "source": [
        "#### Ambiguous features"
      ]
    },
    {
      "cell_type": "markdown",
      "metadata": {
        "id": "7tEzdgzI82J0"
      },
      "source": [
        "#### Rare features and spurious correlations"
      ]
    },
    {
      "cell_type": "markdown",
      "metadata": {
        "id": "h0WUUqKl82J1"
      },
      "source": [
        "**Adding white-noise channels or all-zeros channels to MNIST**"
      ]
    },
    {
      "cell_type": "code",
      "execution_count": 1,
      "metadata": {
        "colab": {
          "base_uri": "https://localhost:8080/"
        },
        "id": "R8cGd27v82J2",
        "outputId": "601fd222-bcce-4c25-e2b8-7dd5d346c41b"
      },
      "outputs": [
        {
          "output_type": "stream",
          "name": "stdout",
          "text": [
            "Downloading data from https://storage.googleapis.com/tensorflow/tf-keras-datasets/mnist.npz\n",
            "11493376/11490434 [==============================] - 0s 0us/step\n",
            "11501568/11490434 [==============================] - 0s 0us/step\n"
          ]
        }
      ],
      "source": [
        "from tensorflow.keras.datasets import mnist\n",
        "import numpy as np\n",
        "\n",
        "(train_images, train_labels), _ = mnist.load_data()\n",
        "train_images = train_images.reshape((60000, 28 * 28))\n",
        "train_images = train_images.astype(\"float32\") / 255\n",
        "\n",
        "train_images_with_noise_channels = np.concatenate(\n",
        "    [train_images, np.random.random((len(train_images), 784))], axis=1)\n",
        "\n",
        "train_images_with_zeros_channels = np.concatenate(\n",
        "    [train_images, np.zeros((len(train_images), 784))], axis=1)"
      ]
    },
    {
      "cell_type": "markdown",
      "metadata": {
        "id": "1cN3avXr82J3"
      },
      "source": [
        "**Training the same model on MNIST data with noise channels or all-zero channels**"
      ]
    },
    {
      "cell_type": "code",
      "execution_count": 2,
      "metadata": {
        "colab": {
          "base_uri": "https://localhost:8080/"
        },
        "id": "FITETE_382J3",
        "outputId": "02e0b251-4ded-4aba-f62b-b1e42c11f0b0"
      },
      "outputs": [
        {
          "output_type": "stream",
          "name": "stdout",
          "text": [
            "Epoch 1/10\n",
            "375/375 [==============================] - 6s 4ms/step - loss: 0.6259 - accuracy: 0.8125 - val_loss: 0.2435 - val_accuracy: 0.9293\n",
            "Epoch 2/10\n",
            "375/375 [==============================] - 1s 4ms/step - loss: 0.2422 - accuracy: 0.9247 - val_loss: 0.1889 - val_accuracy: 0.9419\n",
            "Epoch 3/10\n",
            "375/375 [==============================] - 1s 3ms/step - loss: 0.1549 - accuracy: 0.9521 - val_loss: 0.1466 - val_accuracy: 0.9553\n",
            "Epoch 4/10\n",
            "375/375 [==============================] - 1s 3ms/step - loss: 0.1120 - accuracy: 0.9649 - val_loss: 0.1778 - val_accuracy: 0.9461\n",
            "Epoch 5/10\n",
            "375/375 [==============================] - 1s 3ms/step - loss: 0.0802 - accuracy: 0.9740 - val_loss: 0.2099 - val_accuracy: 0.9402\n",
            "Epoch 6/10\n",
            "375/375 [==============================] - 1s 3ms/step - loss: 0.0605 - accuracy: 0.9807 - val_loss: 0.1391 - val_accuracy: 0.9616\n",
            "Epoch 7/10\n",
            "375/375 [==============================] - 1s 4ms/step - loss: 0.0447 - accuracy: 0.9857 - val_loss: 0.1297 - val_accuracy: 0.9670\n",
            "Epoch 8/10\n",
            "375/375 [==============================] - 1s 3ms/step - loss: 0.0348 - accuracy: 0.9887 - val_loss: 0.1476 - val_accuracy: 0.9606\n",
            "Epoch 9/10\n",
            "375/375 [==============================] - 1s 3ms/step - loss: 0.0250 - accuracy: 0.9915 - val_loss: 0.1456 - val_accuracy: 0.9653\n",
            "Epoch 10/10\n",
            "375/375 [==============================] - 1s 3ms/step - loss: 0.0197 - accuracy: 0.9937 - val_loss: 0.1822 - val_accuracy: 0.9589\n",
            "Epoch 1/10\n",
            "375/375 [==============================] - 2s 4ms/step - loss: 0.2901 - accuracy: 0.9164 - val_loss: 0.1481 - val_accuracy: 0.9587\n",
            "Epoch 2/10\n",
            "375/375 [==============================] - 1s 3ms/step - loss: 0.1201 - accuracy: 0.9642 - val_loss: 0.1029 - val_accuracy: 0.9710\n",
            "Epoch 3/10\n",
            "375/375 [==============================] - 1s 4ms/step - loss: 0.0791 - accuracy: 0.9762 - val_loss: 0.0920 - val_accuracy: 0.9722\n",
            "Epoch 4/10\n",
            "375/375 [==============================] - 1s 4ms/step - loss: 0.0570 - accuracy: 0.9831 - val_loss: 0.0883 - val_accuracy: 0.9766\n",
            "Epoch 5/10\n",
            "375/375 [==============================] - 1s 4ms/step - loss: 0.0424 - accuracy: 0.9879 - val_loss: 0.0885 - val_accuracy: 0.9752\n",
            "Epoch 6/10\n",
            "375/375 [==============================] - 1s 4ms/step - loss: 0.0328 - accuracy: 0.9904 - val_loss: 0.0820 - val_accuracy: 0.9768\n",
            "Epoch 7/10\n",
            "375/375 [==============================] - 1s 3ms/step - loss: 0.0245 - accuracy: 0.9930 - val_loss: 0.0831 - val_accuracy: 0.9766\n",
            "Epoch 8/10\n",
            "375/375 [==============================] - 1s 4ms/step - loss: 0.0193 - accuracy: 0.9945 - val_loss: 0.0845 - val_accuracy: 0.9772\n",
            "Epoch 9/10\n",
            "375/375 [==============================] - 1s 3ms/step - loss: 0.0145 - accuracy: 0.9958 - val_loss: 0.0879 - val_accuracy: 0.9778\n",
            "Epoch 10/10\n",
            "375/375 [==============================] - 1s 3ms/step - loss: 0.0111 - accuracy: 0.9970 - val_loss: 0.0906 - val_accuracy: 0.9788\n"
          ]
        }
      ],
      "source": [
        "from tensorflow import keras\n",
        "from tensorflow.keras import layers\n",
        "\n",
        "def get_model():\n",
        "    model = keras.Sequential([\n",
        "        layers.Dense(512, activation=\"relu\"),\n",
        "        layers.Dense(10, activation=\"softmax\")\n",
        "    ])\n",
        "    model.compile(optimizer=\"rmsprop\",\n",
        "                  loss=\"sparse_categorical_crossentropy\",\n",
        "                  metrics=[\"accuracy\"])\n",
        "    return model\n",
        "\n",
        "model = get_model()\n",
        "history_noise = model.fit(\n",
        "    train_images_with_noise_channels, train_labels,\n",
        "    epochs=10,\n",
        "    batch_size=128,\n",
        "    validation_split=0.2)\n",
        "\n",
        "model = get_model()\n",
        "history_zeros = model.fit(\n",
        "    train_images_with_zeros_channels, train_labels,\n",
        "    epochs=10,\n",
        "    batch_size=128,\n",
        "    validation_split=0.2)"
      ]
    },
    {
      "cell_type": "markdown",
      "metadata": {
        "id": "5zcv8OWN82J4"
      },
      "source": [
        "**Plotting a validation accuracy comparison**"
      ]
    },
    {
      "cell_type": "code",
      "execution_count": 3,
      "metadata": {
        "colab": {
          "base_uri": "https://localhost:8080/",
          "height": 313
        },
        "id": "Lq0XaVx-82J4",
        "outputId": "2579daef-6edc-4944-b366-087827a1bb49"
      },
      "outputs": [
        {
          "output_type": "execute_result",
          "data": {
            "text/plain": [
              "<matplotlib.legend.Legend at 0x7f51bc3c5c90>"
            ]
          },
          "metadata": {},
          "execution_count": 3
        },
        {
          "output_type": "display_data",
          "data": {
            "text/plain": [
              "<Figure size 432x288 with 1 Axes>"
            ],
            "image/png": "[encoded data removed]"
          },
          "metadata": {
            "needs_background": "light"
          }
        }
      ],
      "source": [
        "import matplotlib.pyplot as plt\n",
        "val_acc_noise = history_noise.history[\"val_accuracy\"]\n",
        "val_acc_zeros = history_zeros.history[\"val_accuracy\"]\n",
        "epochs = range(1, 11)\n",
        "plt.plot(epochs, val_acc_noise, \"b-\",\n",
        "         label=\"Validation accuracy with noise channels\")\n",
        "plt.plot(epochs, val_acc_zeros, \"b--\",\n",
        "         label=\"Validation accuracy with zeros channels\")\n",
        "plt.title(\"Effect of noise channels on validation accuracy\")\n",
        "plt.xlabel(\"Epochs\")\n",
        "plt.ylabel(\"Accuracy\")\n",
        "plt.legend()"
      ]
    },
    {
      "cell_type": "markdown",
      "metadata": {
        "id": "-ogU_Ls-82J5"
      },
      "source": [
        "### The nature of generalization in deep learning"
      ]
    },
    {
      "cell_type": "markdown",
      "metadata": {
        "id": "3rzH-fVa82J5"
      },
      "source": [
        "**Fitting a MNIST model with randomly shuffled labels**"
      ]
    },
    {
      "cell_type": "code",
      "execution_count": 4,
      "metadata": {
        "colab": {
          "base_uri": "https://localhost:8080/"
        },
        "id": "loA-4k0j82J6",
        "outputId": "4be7dcee-4d08-4b63-b3d7-b9166f729d8d"
      },
      "outputs": [
        {
          "output_type": "stream",
          "name": "stdout",
          "text": [
            "Epoch 1/100\n",
            "375/375 [==============================] - 3s 6ms/step - loss: 2.3173 - accuracy: 0.1029 - val_loss: 2.3046 - val_accuracy: 0.1068\n",
            "Epoch 2/100\n",
            "375/375 [==============================] - 2s 6ms/step - loss: 2.3004 - accuracy: 0.1155 - val_loss: 2.3115 - val_accuracy: 0.1023\n",
            "Epoch 3/100\n",
            "375/375 [==============================] - 2s 6ms/step - loss: 2.2908 - accuracy: 0.1291 - val_loss: 2.3180 - val_accuracy: 0.1028\n",
            "Epoch 4/100\n",
            "375/375 [==============================] - 2s 5ms/step - loss: 2.2772 - accuracy: 0.1395 - val_loss: 2.3241 - val_accuracy: 0.1002\n",
            "Epoch 5/100\n",
            "375/375 [==============================] - 2s 5ms/step - loss: 2.2620 - accuracy: 0.1510 - val_loss: 2.3398 - val_accuracy: 0.1027\n",
            "Epoch 6/100\n",
            "375/375 [==============================] - 1s 4ms/step - loss: 2.2406 - accuracy: 0.1662 - val_loss: 2.3470 - val_accuracy: 0.1018\n",
            "Epoch 7/100\n",
            "375/375 [==============================] - 1s 3ms/step - loss: 2.2179 - accuracy: 0.1819 - val_loss: 2.3586 - val_accuracy: 0.1095\n",
            "Epoch 8/100\n",
            "375/375 [==============================] - 1s 4ms/step - loss: 2.1928 - accuracy: 0.1953 - val_loss: 2.3783 - val_accuracy: 0.1028\n",
            "Epoch 9/100\n",
            "375/375 [==============================] - 1s 3ms/step - loss: 2.1634 - accuracy: 0.2135 - val_loss: 2.3947 - val_accuracy: 0.1032\n",
            "Epoch 10/100\n",
            "375/375 [==============================] - 1s 3ms/step - loss: 2.1329 - accuracy: 0.2253 - val_loss: 2.4188 - val_accuracy: 0.1019\n",
            "Epoch 11/100\n",
            "375/375 [==============================] - 1s 3ms/step - loss: 2.1013 - accuracy: 0.2440 - val_loss: 2.4448 - val_accuracy: 0.1028\n",
            "Epoch 12/100\n",
            "375/375 [==============================] - 1s 3ms/step - loss: 2.0691 - accuracy: 0.2584 - val_loss: 2.4651 - val_accuracy: 0.1045\n",
            "Epoch 13/100\n",
            "375/375 [==============================] - 1s 3ms/step - loss: 2.0345 - accuracy: 0.2744 - val_loss: 2.4811 - val_accuracy: 0.1043\n",
            "Epoch 14/100\n",
            "375/375 [==============================] - 1s 3ms/step - loss: 1.9996 - accuracy: 0.2905 - val_loss: 2.5271 - val_accuracy: 0.1020\n",
            "Epoch 15/100\n",
            "375/375 [==============================] - 1s 3ms/step - loss: 1.9656 - accuracy: 0.3041 - val_loss: 2.5442 - val_accuracy: 0.1029\n",
            "Epoch 16/100\n",
            "375/375 [==============================] - 1s 3ms/step - loss: 1.9313 - accuracy: 0.3170 - val_loss: 2.5679 - val_accuracy: 0.1032\n",
            "Epoch 17/100\n",
            "375/375 [==============================] - 1s 3ms/step - loss: 1.8979 - accuracy: 0.3300 - val_loss: 2.6037 - val_accuracy: 0.1022\n",
            "Epoch 18/100\n",
            "375/375 [==============================] - 1s 3ms/step - loss: 1.8635 - accuracy: 0.3460 - val_loss: 2.6519 - val_accuracy: 0.1070\n",
            "Epoch 19/100\n",
            "375/375 [==============================] - 1s 3ms/step - loss: 1.8315 - accuracy: 0.3578 - val_loss: 2.6775 - val_accuracy: 0.0992\n",
            "Epoch 20/100\n",
            "375/375 [==============================] - 1s 3ms/step - loss: 1.7973 - accuracy: 0.3701 - val_loss: 2.7274 - val_accuracy: 0.1002\n",
            "Epoch 21/100\n",
            "375/375 [==============================] - 1s 3ms/step - loss: 1.7661 - accuracy: 0.3861 - val_loss: 2.7589 - val_accuracy: 0.1019\n",
            "Epoch 22/100\n",
            "375/375 [==============================] - 1s 3ms/step - loss: 1.7348 - accuracy: 0.3978 - val_loss: 2.7894 - val_accuracy: 0.1009\n",
            "Epoch 23/100\n",
            "375/375 [==============================] - 1s 3ms/step - loss: 1.7049 - accuracy: 0.4078 - val_loss: 2.8435 - val_accuracy: 0.1009\n",
            "Epoch 24/100\n",
            "375/375 [==============================] - 1s 3ms/step - loss: 1.6730 - accuracy: 0.4197 - val_loss: 2.8846 - val_accuracy: 0.0977\n",
            "Epoch 25/100\n",
            "375/375 [==============================] - 1s 3ms/step - loss: 1.6454 - accuracy: 0.4305 - val_loss: 2.9158 - val_accuracy: 0.1029\n",
            "Epoch 26/100\n",
            "375/375 [==============================] - 1s 3ms/step - loss: 1.6167 - accuracy: 0.4398 - val_loss: 2.9570 - val_accuracy: 0.0986\n",
            "Epoch 27/100\n",
            "375/375 [==============================] - 1s 3ms/step - loss: 1.5890 - accuracy: 0.4522 - val_loss: 2.9903 - val_accuracy: 0.0982\n",
            "Epoch 28/100\n",
            "375/375 [==============================] - 1s 3ms/step - loss: 1.5617 - accuracy: 0.4636 - val_loss: 3.0469 - val_accuracy: 0.1008\n",
            "Epoch 29/100\n",
            "375/375 [==============================] - 1s 3ms/step - loss: 1.5341 - accuracy: 0.4721 - val_loss: 3.0853 - val_accuracy: 0.1034\n",
            "Epoch 30/100\n",
            "375/375 [==============================] - 1s 3ms/step - loss: 1.5076 - accuracy: 0.4833 - val_loss: 3.1086 - val_accuracy: 0.0997\n",
            "Epoch 31/100\n",
            "375/375 [==============================] - 1s 4ms/step - loss: 1.4812 - accuracy: 0.4903 - val_loss: 3.1704 - val_accuracy: 0.1006\n",
            "Epoch 32/100\n",
            "375/375 [==============================] - 2s 5ms/step - loss: 1.4580 - accuracy: 0.5015 - val_loss: 3.2140 - val_accuracy: 0.0989\n",
            "Epoch 33/100\n",
            "375/375 [==============================] - 1s 4ms/step - loss: 1.4324 - accuracy: 0.5081 - val_loss: 3.2685 - val_accuracy: 0.0983\n",
            "Epoch 34/100\n",
            "375/375 [==============================] - 1s 3ms/step - loss: 1.4098 - accuracy: 0.5181 - val_loss: 3.3019 - val_accuracy: 0.0982\n",
            "Epoch 35/100\n",
            "375/375 [==============================] - 1s 3ms/step - loss: 1.3850 - accuracy: 0.5258 - val_loss: 3.3529 - val_accuracy: 0.0994\n",
            "Epoch 36/100\n",
            "375/375 [==============================] - 1s 3ms/step - loss: 1.3616 - accuracy: 0.5353 - val_loss: 3.3998 - val_accuracy: 0.0991\n",
            "Epoch 37/100\n",
            "375/375 [==============================] - 1s 3ms/step - loss: 1.3383 - accuracy: 0.5443 - val_loss: 3.4791 - val_accuracy: 0.0960\n",
            "Epoch 38/100\n",
            "375/375 [==============================] - 1s 3ms/step - loss: 1.3181 - accuracy: 0.5501 - val_loss: 3.5193 - val_accuracy: 0.0986\n",
            "Epoch 39/100\n",
            "375/375 [==============================] - 1s 3ms/step - loss: 1.2946 - accuracy: 0.5610 - val_loss: 3.5641 - val_accuracy: 0.1019\n",
            "Epoch 40/100\n",
            "375/375 [==============================] - 1s 3ms/step - loss: 1.2727 - accuracy: 0.5680 - val_loss: 3.5863 - val_accuracy: 0.1028\n",
            "Epoch 41/100\n",
            "375/375 [==============================] - 1s 3ms/step - loss: 1.2548 - accuracy: 0.5741 - val_loss: 3.6500 - val_accuracy: 0.0963\n",
            "Epoch 42/100\n",
            "375/375 [==============================] - 1s 3ms/step - loss: 1.2342 - accuracy: 0.5814 - val_loss: 3.7139 - val_accuracy: 0.1027\n",
            "Epoch 43/100\n",
            "375/375 [==============================] - 1s 3ms/step - loss: 1.2131 - accuracy: 0.5890 - val_loss: 3.7863 - val_accuracy: 0.0975\n",
            "Epoch 44/100\n",
            "375/375 [==============================] - 1s 4ms/step - loss: 1.1933 - accuracy: 0.5952 - val_loss: 3.8236 - val_accuracy: 0.0972\n",
            "Epoch 45/100\n",
            "375/375 [==============================] - 2s 5ms/step - loss: 1.1718 - accuracy: 0.6037 - val_loss: 3.9053 - val_accuracy: 0.0979\n",
            "Epoch 46/100\n",
            "375/375 [==============================] - 1s 3ms/step - loss: 1.1558 - accuracy: 0.6094 - val_loss: 3.9342 - val_accuracy: 0.1008\n",
            "Epoch 47/100\n",
            "375/375 [==============================] - 1s 3ms/step - loss: 1.1386 - accuracy: 0.6155 - val_loss: 3.9667 - val_accuracy: 0.0969\n",
            "Epoch 48/100\n",
            "375/375 [==============================] - 1s 3ms/step - loss: 1.1202 - accuracy: 0.6223 - val_loss: 4.0328 - val_accuracy: 0.0988\n",
            "Epoch 49/100\n",
            "375/375 [==============================] - 1s 3ms/step - loss: 1.1012 - accuracy: 0.6299 - val_loss: 4.1075 - val_accuracy: 0.1014\n",
            "Epoch 50/100\n",
            "375/375 [==============================] - 1s 3ms/step - loss: 1.0844 - accuracy: 0.6344 - val_loss: 4.1592 - val_accuracy: 0.0952\n",
            "Epoch 51/100\n",
            "375/375 [==============================] - 1s 3ms/step - loss: 1.0677 - accuracy: 0.6438 - val_loss: 4.1826 - val_accuracy: 0.0972\n",
            "Epoch 52/100\n",
            "375/375 [==============================] - 1s 3ms/step - loss: 1.0514 - accuracy: 0.6487 - val_loss: 4.2290 - val_accuracy: 0.1004\n",
            "Epoch 53/100\n",
            "375/375 [==============================] - 1s 3ms/step - loss: 1.0359 - accuracy: 0.6529 - val_loss: 4.2848 - val_accuracy: 0.0975\n",
            "Epoch 54/100\n",
            "375/375 [==============================] - 1s 3ms/step - loss: 1.0177 - accuracy: 0.6610 - val_loss: 4.3450 - val_accuracy: 0.0980\n",
            "Epoch 55/100\n",
            "375/375 [==============================] - 1s 3ms/step - loss: 1.0034 - accuracy: 0.6653 - val_loss: 4.4137 - val_accuracy: 0.0987\n",
            "Epoch 56/100\n",
            "375/375 [==============================] - 1s 3ms/step - loss: 0.9870 - accuracy: 0.6709 - val_loss: 4.4823 - val_accuracy: 0.0973\n",
            "Epoch 57/100\n",
            "375/375 [==============================] - 1s 4ms/step - loss: 0.9732 - accuracy: 0.6749 - val_loss: 4.5334 - val_accuracy: 0.0978\n",
            "Epoch 58/100\n",
            "375/375 [==============================] - 1s 3ms/step - loss: 0.9565 - accuracy: 0.6793 - val_loss: 4.5784 - val_accuracy: 0.1017\n",
            "Epoch 59/100\n",
            "375/375 [==============================] - 1s 4ms/step - loss: 0.9426 - accuracy: 0.6849 - val_loss: 4.6608 - val_accuracy: 0.0965\n",
            "Epoch 60/100\n",
            "375/375 [==============================] - 1s 4ms/step - loss: 0.9303 - accuracy: 0.6914 - val_loss: 4.7342 - val_accuracy: 0.0972\n",
            "Epoch 61/100\n",
            "375/375 [==============================] - 1s 3ms/step - loss: 0.9155 - accuracy: 0.6951 - val_loss: 4.7752 - val_accuracy: 0.1001\n",
            "Epoch 62/100\n",
            "375/375 [==============================] - 1s 3ms/step - loss: 0.9011 - accuracy: 0.7014 - val_loss: 4.8173 - val_accuracy: 0.1002\n",
            "Epoch 63/100\n",
            "375/375 [==============================] - 1s 3ms/step - loss: 0.8864 - accuracy: 0.7079 - val_loss: 4.8456 - val_accuracy: 0.0977\n",
            "Epoch 64/100\n",
            "375/375 [==============================] - 1s 3ms/step - loss: 0.8752 - accuracy: 0.7092 - val_loss: 4.9448 - val_accuracy: 0.0957\n",
            "Epoch 65/100\n",
            "375/375 [==============================] - 1s 3ms/step - loss: 0.8587 - accuracy: 0.7168 - val_loss: 5.0164 - val_accuracy: 0.0988\n",
            "Epoch 66/100\n",
            "375/375 [==============================] - 1s 4ms/step - loss: 0.8477 - accuracy: 0.7190 - val_loss: 5.0784 - val_accuracy: 0.0971\n",
            "Epoch 67/100\n",
            "375/375 [==============================] - 1s 3ms/step - loss: 0.8345 - accuracy: 0.7257 - val_loss: 5.1064 - val_accuracy: 0.0982\n",
            "Epoch 68/100\n",
            "375/375 [==============================] - 1s 4ms/step - loss: 0.8215 - accuracy: 0.7279 - val_loss: 5.1856 - val_accuracy: 0.0967\n",
            "Epoch 69/100\n",
            "375/375 [==============================] - 1s 4ms/step - loss: 0.8115 - accuracy: 0.7328 - val_loss: 5.2161 - val_accuracy: 0.1001\n",
            "Epoch 70/100\n",
            "375/375 [==============================] - 1s 4ms/step - loss: 0.7997 - accuracy: 0.7364 - val_loss: 5.3003 - val_accuracy: 0.0985\n",
            "Epoch 71/100\n",
            "375/375 [==============================] - 1s 4ms/step - loss: 0.7871 - accuracy: 0.7402 - val_loss: 5.3718 - val_accuracy: 0.0972\n",
            "Epoch 72/100\n",
            "375/375 [==============================] - 1s 3ms/step - loss: 0.7737 - accuracy: 0.7438 - val_loss: 5.4567 - val_accuracy: 0.1011\n",
            "Epoch 73/100\n",
            "375/375 [==============================] - 1s 3ms/step - loss: 0.7621 - accuracy: 0.7511 - val_loss: 5.4892 - val_accuracy: 0.0999\n",
            "Epoch 74/100\n",
            "375/375 [==============================] - 1s 3ms/step - loss: 0.7550 - accuracy: 0.7527 - val_loss: 5.5616 - val_accuracy: 0.1012\n",
            "Epoch 75/100\n",
            "375/375 [==============================] - 1s 3ms/step - loss: 0.7425 - accuracy: 0.7559 - val_loss: 5.6317 - val_accuracy: 0.0997\n",
            "Epoch 76/100\n",
            "375/375 [==============================] - 1s 3ms/step - loss: 0.7317 - accuracy: 0.7598 - val_loss: 5.6503 - val_accuracy: 0.1007\n",
            "Epoch 77/100\n",
            "375/375 [==============================] - 1s 3ms/step - loss: 0.7199 - accuracy: 0.7650 - val_loss: 5.7618 - val_accuracy: 0.0994\n",
            "Epoch 78/100\n",
            "375/375 [==============================] - 1s 3ms/step - loss: 0.7092 - accuracy: 0.7682 - val_loss: 5.8120 - val_accuracy: 0.0968\n",
            "Epoch 79/100\n",
            "375/375 [==============================] - 1s 3ms/step - loss: 0.6985 - accuracy: 0.7709 - val_loss: 5.8609 - val_accuracy: 0.0997\n",
            "Epoch 80/100\n",
            "375/375 [==============================] - 1s 3ms/step - loss: 0.6905 - accuracy: 0.7744 - val_loss: 5.9199 - val_accuracy: 0.0997\n",
            "Epoch 81/100\n",
            "375/375 [==============================] - 1s 3ms/step - loss: 0.6786 - accuracy: 0.7789 - val_loss: 5.9841 - val_accuracy: 0.0972\n",
            "Epoch 82/100\n",
            "375/375 [==============================] - 1s 3ms/step - loss: 0.6679 - accuracy: 0.7830 - val_loss: 6.0758 - val_accuracy: 0.0971\n",
            "Epoch 83/100\n",
            "375/375 [==============================] - 1s 3ms/step - loss: 0.6597 - accuracy: 0.7853 - val_loss: 6.1250 - val_accuracy: 0.1006\n",
            "Epoch 84/100\n",
            "375/375 [==============================] - 1s 3ms/step - loss: 0.6492 - accuracy: 0.7894 - val_loss: 6.2516 - val_accuracy: 0.1001\n",
            "Epoch 85/100\n",
            "375/375 [==============================] - 1s 3ms/step - loss: 0.6399 - accuracy: 0.7932 - val_loss: 6.2793 - val_accuracy: 0.0977\n",
            "Epoch 86/100\n",
            "375/375 [==============================] - 1s 3ms/step - loss: 0.6310 - accuracy: 0.7938 - val_loss: 6.3404 - val_accuracy: 0.1004\n",
            "Epoch 87/100\n",
            "375/375 [==============================] - 1s 3ms/step - loss: 0.6220 - accuracy: 0.7972 - val_loss: 6.3700 - val_accuracy: 0.1014\n",
            "Epoch 88/100\n",
            "375/375 [==============================] - 1s 3ms/step - loss: 0.6155 - accuracy: 0.8022 - val_loss: 6.4343 - val_accuracy: 0.1027\n",
            "Epoch 89/100\n",
            "375/375 [==============================] - 1s 3ms/step - loss: 0.6034 - accuracy: 0.8040 - val_loss: 6.5357 - val_accuracy: 0.1035\n",
            "Epoch 90/100\n",
            "375/375 [==============================] - 1s 3ms/step - loss: 0.5929 - accuracy: 0.8082 - val_loss: 6.6249 - val_accuracy: 0.1019\n",
            "Epoch 91/100\n",
            "375/375 [==============================] - 1s 3ms/step - loss: 0.5860 - accuracy: 0.8107 - val_loss: 6.6203 - val_accuracy: 0.0960\n",
            "Epoch 92/100\n",
            "375/375 [==============================] - 1s 4ms/step - loss: 0.5780 - accuracy: 0.8132 - val_loss: 6.7247 - val_accuracy: 0.1016\n",
            "Epoch 93/100\n",
            "375/375 [==============================] - 1s 3ms/step - loss: 0.5702 - accuracy: 0.8165 - val_loss: 6.7781 - val_accuracy: 0.1002\n",
            "Epoch 94/100\n",
            "375/375 [==============================] - 1s 3ms/step - loss: 0.5605 - accuracy: 0.8167 - val_loss: 6.8374 - val_accuracy: 0.0984\n",
            "Epoch 95/100\n",
            "375/375 [==============================] - 1s 4ms/step - loss: 0.5537 - accuracy: 0.8220 - val_loss: 6.9816 - val_accuracy: 0.0964\n",
            "Epoch 96/100\n",
            "375/375 [==============================] - 1s 4ms/step - loss: 0.5475 - accuracy: 0.8242 - val_loss: 6.9736 - val_accuracy: 0.1006\n",
            "Epoch 97/100\n",
            "375/375 [==============================] - 1s 3ms/step - loss: 0.5382 - accuracy: 0.8287 - val_loss: 7.0527 - val_accuracy: 0.0977\n",
            "Epoch 98/100\n",
            "375/375 [==============================] - 1s 4ms/step - loss: 0.5312 - accuracy: 0.8297 - val_loss: 7.1368 - val_accuracy: 0.0978\n",
            "Epoch 99/100\n",
            "375/375 [==============================] - 1s 3ms/step - loss: 0.5253 - accuracy: 0.8317 - val_loss: 7.1486 - val_accuracy: 0.0988\n",
            "Epoch 100/100\n",
            "375/375 [==============================] - 1s 3ms/step - loss: 0.5173 - accuracy: 0.8327 - val_loss: 7.2133 - val_accuracy: 0.0967\n"
          ]
        },
        {
          "output_type": "execute_result",
          "data": {
            "text/plain": [
              "<keras.callbacks.History at 0x7f51bc463910>"
            ]
          },
          "metadata": {},
          "execution_count": 4
        }
      ],
      "source": [
        "(train_images, train_labels), _ = mnist.load_data()\n",
        "train_images = train_images.reshape((60000, 28 * 28))\n",
        "train_images = train_images.astype(\"float32\") / 255\n",
        "\n",
        "random_train_labels = train_labels[:]\n",
        "np.random.shuffle(random_train_labels)\n",
        "\n",
        "model = keras.Sequential([\n",
        "    layers.Dense(512, activation=\"relu\"),\n",
        "    layers.Dense(10, activation=\"softmax\")\n",
        "])\n",
        "model.compile(optimizer=\"rmsprop\",\n",
        "              loss=\"sparse_categorical_crossentropy\",\n",
        "              metrics=[\"accuracy\"])\n",
        "model.fit(train_images, random_train_labels,\n",
        "          epochs=100,\n",
        "          batch_size=128,\n",
        "          validation_split=0.2)"
      ]
    },
    {
      "cell_type": "markdown",
      "metadata": {
        "id": "UiRI8REc82J6"
      },
      "source": [
        "#### The manifold hypothesis"
      ]
    },
    {
      "cell_type": "markdown",
      "metadata": {
        "id": "z1_UaDao82J6"
      },
      "source": [
        "#### Interpolation as a source of generalization"
      ]
    },
    {
      "cell_type": "markdown",
      "metadata": {
        "id": "4HZSzPHv82J7"
      },
      "source": [
        "#### Why deep learning works"
      ]
    },
    {
      "cell_type": "markdown",
      "metadata": {
        "id": "870E0JSq82J7"
      },
      "source": [
        "#### Training data is paramount"
      ]
    },
    {
      "cell_type": "markdown",
      "metadata": {
        "id": "7V5QD_By82J7"
      },
      "source": [
        "## Evaluating machine-learning models"
      ]
    },
    {
      "cell_type": "markdown",
      "metadata": {
        "id": "1I4NaxWw82J7"
      },
      "source": [
        "### Training, validation, and test sets"
      ]
    },
    {
      "cell_type": "markdown",
      "metadata": {
        "id": "iaeMl9ZE82J8"
      },
      "source": [
        "#### Simple hold-out validation"
      ]
    },
    {
      "cell_type": "markdown",
      "metadata": {
        "id": "VpWBf-It82J8"
      },
      "source": [
        "#### K-fold validation"
      ]
    },
    {
      "cell_type": "markdown",
      "metadata": {
        "id": "LLV103nS82J8"
      },
      "source": [
        "#### Iterated K-fold validation with shuffling"
      ]
    },
    {
      "cell_type": "markdown",
      "metadata": {
        "id": "pjvg_kUY82J8"
      },
      "source": [
        "### Beating a common-sense baseline"
      ]
    },
    {
      "cell_type": "markdown",
      "metadata": {
        "id": "X89Tz1mA82J8"
      },
      "source": [
        "### Things to keep in mind about model evaluation"
      ]
    },
    {
      "cell_type": "markdown",
      "metadata": {
        "id": "bOz80KSG82J8"
      },
      "source": [
        "## Improving model fit"
      ]
    },
    {
      "cell_type": "markdown",
      "metadata": {
        "id": "A-PhciuU82J8"
      },
      "source": [
        "### Tuning key gradient descent parameters"
      ]
    },
    {
      "cell_type": "markdown",
      "metadata": {
        "id": "9bYq_-K382J9"
      },
      "source": [
        "**Training a MNIST model with an incorrectly high learning rate**"
      ]
    },
    {
      "cell_type": "code",
      "execution_count": 5,
      "metadata": {
        "colab": {
          "base_uri": "https://localhost:8080/"
        },
        "id": "20XT6hd082J9",
        "outputId": "dd6a233f-8be5-4a23-eea9-3ce7722364a8"
      },
      "outputs": [
        {
          "output_type": "stream",
          "name": "stdout",
          "text": [
            "Epoch 1/10\n",
            "375/375 [==============================] - 3s 6ms/step - loss: 857.9833 - accuracy: 0.3525 - val_loss: 2.1947 - val_accuracy: 0.2313\n",
            "Epoch 2/10\n",
            "375/375 [==============================] - 2s 5ms/step - loss: 10.1489 - accuracy: 0.2442 - val_loss: 2.0207 - val_accuracy: 0.2555\n",
            "Epoch 3/10\n",
            "375/375 [==============================] - 1s 3ms/step - loss: 2.8578 - accuracy: 0.2413 - val_loss: 2.3391 - val_accuracy: 0.3085\n",
            "Epoch 4/10\n",
            "375/375 [==============================] - 1s 3ms/step - loss: 2.8448 - accuracy: 0.2374 - val_loss: 2.7577 - val_accuracy: 0.2767\n",
            "Epoch 5/10\n",
            "375/375 [==============================] - 1s 3ms/step - loss: 2.9949 - accuracy: 0.2405 - val_loss: 2.2089 - val_accuracy: 0.2197\n",
            "Epoch 6/10\n",
            "375/375 [==============================] - 1s 3ms/step - loss: 2.7809 - accuracy: 0.2341 - val_loss: 2.2785 - val_accuracy: 0.2853\n",
            "Epoch 7/10\n",
            "375/375 [==============================] - 1s 3ms/step - loss: 2.6572 - accuracy: 0.2670 - val_loss: 3.1901 - val_accuracy: 0.2936\n",
            "Epoch 8/10\n",
            "375/375 [==============================] - 1s 3ms/step - loss: 2.4222 - accuracy: 0.2354 - val_loss: 2.1626 - val_accuracy: 0.2460\n",
            "Epoch 9/10\n",
            "375/375 [==============================] - 1s 3ms/step - loss: 2.3469 - accuracy: 0.2392 - val_loss: 2.1258 - val_accuracy: 0.2352\n",
            "Epoch 10/10\n",
            "375/375 [==============================] - 1s 3ms/step - loss: 2.3941 - accuracy: 0.2452 - val_loss: 2.2331 - val_accuracy: 0.2858\n"
          ]
        },
        {
          "output_type": "execute_result",
          "data": {
            "text/plain": [
              "<keras.callbacks.History at 0x7f5186119d90>"
            ]
          },
          "metadata": {},
          "execution_count": 5
        }
      ],
      "source": [
        "(train_images, train_labels), _ = mnist.load_data()\n",
        "train_images = train_images.reshape((60000, 28 * 28))\n",
        "train_images = train_images.astype(\"float32\") / 255\n",
        "\n",
        "model = keras.Sequential([\n",
        "    layers.Dense(512, activation=\"relu\"),\n",
        "    layers.Dense(10, activation=\"softmax\")\n",
        "])\n",
        "model.compile(optimizer=keras.optimizers.RMSprop(1.),\n",
        "              loss=\"sparse_categorical_crossentropy\",\n",
        "              metrics=[\"accuracy\"])\n",
        "model.fit(train_images, train_labels,\n",
        "          epochs=10,\n",
        "          batch_size=128,\n",
        "          validation_split=0.2)"
      ]
    },
    {
      "cell_type": "markdown",
      "metadata": {
        "id": "oN2ZBLAF82J9"
      },
      "source": [
        "**The same model with a more appropriate learning rate**"
      ]
    },
    {
      "cell_type": "code",
      "execution_count": 6,
      "metadata": {
        "colab": {
          "base_uri": "https://localhost:8080/"
        },
        "id": "gJcoHHiy82J9",
        "outputId": "4fac6864-b8e6-470c-f641-3f0e72afe110"
      },
      "outputs": [
        {
          "output_type": "stream",
          "name": "stdout",
          "text": [
            "Epoch 1/10\n",
            "375/375 [==============================] - 2s 4ms/step - loss: 0.3769 - accuracy: 0.9099 - val_loss: 0.1326 - val_accuracy: 0.9621\n",
            "Epoch 2/10\n",
            "375/375 [==============================] - 1s 3ms/step - loss: 0.1435 - accuracy: 0.9625 - val_loss: 0.1676 - val_accuracy: 0.9631\n",
            "Epoch 3/10\n",
            "375/375 [==============================] - 1s 3ms/step - loss: 0.1207 - accuracy: 0.9721 - val_loss: 0.1994 - val_accuracy: 0.9632\n",
            "Epoch 4/10\n",
            "375/375 [==============================] - 1s 3ms/step - loss: 0.1077 - accuracy: 0.9770 - val_loss: 0.1709 - val_accuracy: 0.9705\n",
            "Epoch 5/10\n",
            "375/375 [==============================] - 1s 3ms/step - loss: 0.0932 - accuracy: 0.9814 - val_loss: 0.2248 - val_accuracy: 0.9712\n",
            "Epoch 6/10\n",
            "375/375 [==============================] - 1s 3ms/step - loss: 0.0848 - accuracy: 0.9837 - val_loss: 0.2061 - val_accuracy: 0.9732\n",
            "Epoch 7/10\n",
            "375/375 [==============================] - 1s 4ms/step - loss: 0.0739 - accuracy: 0.9861 - val_loss: 0.2614 - val_accuracy: 0.9724\n",
            "Epoch 8/10\n",
            "375/375 [==============================] - 1s 4ms/step - loss: 0.0690 - accuracy: 0.9878 - val_loss: 0.2375 - val_accuracy: 0.9762\n",
            "Epoch 9/10\n",
            "375/375 [==============================] - 1s 3ms/step - loss: 0.0594 - accuracy: 0.9896 - val_loss: 0.3207 - val_accuracy: 0.9716\n",
            "Epoch 10/10\n",
            "375/375 [==============================] - 1s 3ms/step - loss: 0.0582 - accuracy: 0.9899 - val_loss: 0.3123 - val_accuracy: 0.9737\n"
          ]
        },
        {
          "output_type": "execute_result",
          "data": {
            "text/plain": [
              "<keras.callbacks.History at 0x7f51bc359b90>"
            ]
          },
          "metadata": {},
          "execution_count": 6
        }
      ],
      "source": [
        "model = keras.Sequential([\n",
        "    layers.Dense(512, activation=\"relu\"),\n",
        "    layers.Dense(10, activation=\"softmax\")\n",
        "])\n",
        "model.compile(optimizer=keras.optimizers.RMSprop(1e-2),\n",
        "              loss=\"sparse_categorical_crossentropy\",\n",
        "              metrics=[\"accuracy\"])\n",
        "model.fit(train_images, train_labels,\n",
        "          epochs=10,\n",
        "          batch_size=128,\n",
        "          validation_split=0.2)"
      ]
    },
    {
      "cell_type": "markdown",
      "metadata": {
        "id": "7Es9eAFD82J9"
      },
      "source": [
        "### Leveraging better architecture priors"
      ]
    },
    {
      "cell_type": "markdown",
      "metadata": {
        "id": "cozENYhM82J9"
      },
      "source": [
        "### Increasing model capacity"
      ]
    },
    {
      "cell_type": "markdown",
      "metadata": {
        "id": "5TwVZYn282J-"
      },
      "source": [
        "**A simple logistic regression on MNIST**"
      ]
    },
    {
      "cell_type": "code",
      "execution_count": 7,
      "metadata": {
        "colab": {
          "base_uri": "https://localhost:8080/"
        },
        "id": "FZmwhT0I82J-",
        "outputId": "4974c9e3-f4c9-4c91-8165-ccaa058979fa"
      },
      "outputs": [
        {
          "output_type": "stream",
          "name": "stdout",
          "text": [
            "Epoch 1/20\n",
            "375/375 [==============================] - 2s 4ms/step - loss: 0.6692 - accuracy: 0.8365 - val_loss: 0.3568 - val_accuracy: 0.9028\n",
            "Epoch 2/20\n",
            "375/375 [==============================] - 1s 3ms/step - loss: 0.3513 - accuracy: 0.9022 - val_loss: 0.3086 - val_accuracy: 0.9139\n",
            "Epoch 3/20\n",
            "375/375 [==============================] - 1s 3ms/step - loss: 0.3159 - accuracy: 0.9124 - val_loss: 0.2915 - val_accuracy: 0.9193\n",
            "Epoch 4/20\n",
            "375/375 [==============================] - 1s 3ms/step - loss: 0.2994 - accuracy: 0.9165 - val_loss: 0.2824 - val_accuracy: 0.9223\n",
            "Epoch 5/20\n",
            "375/375 [==============================] - 1s 3ms/step - loss: 0.2898 - accuracy: 0.9190 - val_loss: 0.2769 - val_accuracy: 0.9219\n",
            "Epoch 6/20\n",
            "375/375 [==============================] - 1s 3ms/step - loss: 0.2831 - accuracy: 0.9211 - val_loss: 0.2724 - val_accuracy: 0.9237\n",
            "Epoch 7/20\n",
            "375/375 [==============================] - 1s 3ms/step - loss: 0.2780 - accuracy: 0.9224 - val_loss: 0.2699 - val_accuracy: 0.9265\n",
            "Epoch 8/20\n",
            "375/375 [==============================] - 1s 3ms/step - loss: 0.2745 - accuracy: 0.9237 - val_loss: 0.2664 - val_accuracy: 0.9271\n",
            "Epoch 9/20\n",
            "375/375 [==============================] - 1s 3ms/step - loss: 0.2714 - accuracy: 0.9245 - val_loss: 0.2652 - val_accuracy: 0.9288\n",
            "Epoch 10/20\n",
            "375/375 [==============================] - 1s 3ms/step - loss: 0.2688 - accuracy: 0.9253 - val_loss: 0.2657 - val_accuracy: 0.9275\n",
            "Epoch 11/20\n",
            "375/375 [==============================] - 1s 3ms/step - loss: 0.2668 - accuracy: 0.9258 - val_loss: 0.2638 - val_accuracy: 0.9283\n",
            "Epoch 12/20\n",
            "375/375 [==============================] - 1s 3ms/step - loss: 0.2648 - accuracy: 0.9269 - val_loss: 0.2628 - val_accuracy: 0.9281\n",
            "Epoch 13/20\n",
            "375/375 [==============================] - 1s 3ms/step - loss: 0.2631 - accuracy: 0.9272 - val_loss: 0.2636 - val_accuracy: 0.9279\n",
            "Epoch 14/20\n",
            "375/375 [==============================] - 1s 3ms/step - loss: 0.2619 - accuracy: 0.9279 - val_loss: 0.2621 - val_accuracy: 0.9298\n",
            "Epoch 15/20\n",
            "375/375 [==============================] - 1s 3ms/step - loss: 0.2606 - accuracy: 0.9288 - val_loss: 0.2607 - val_accuracy: 0.9306\n",
            "Epoch 16/20\n",
            "375/375 [==============================] - 1s 3ms/step - loss: 0.2596 - accuracy: 0.9285 - val_loss: 0.2617 - val_accuracy: 0.9297\n",
            "Epoch 17/20\n",
            "375/375 [==============================] - 1s 3ms/step - loss: 0.2583 - accuracy: 0.9295 - val_loss: 0.2622 - val_accuracy: 0.9302\n",
            "Epoch 18/20\n",
            "375/375 [==============================] - 1s 3ms/step - loss: 0.2576 - accuracy: 0.9302 - val_loss: 0.2628 - val_accuracy: 0.9301\n",
            "Epoch 19/20\n",
            "375/375 [==============================] - 1s 3ms/step - loss: 0.2565 - accuracy: 0.9305 - val_loss: 0.2605 - val_accuracy: 0.9311\n",
            "Epoch 20/20\n",
            "375/375 [==============================] - 1s 3ms/step - loss: 0.2557 - accuracy: 0.9303 - val_loss: 0.2609 - val_accuracy: 0.9305\n"
          ]
        }
      ],
      "source": [
        "model = keras.Sequential([layers.Dense(10, activation=\"softmax\")])\n",
        "model.compile(optimizer=\"rmsprop\",\n",
        "              loss=\"sparse_categorical_crossentropy\",\n",
        "              metrics=[\"accuracy\"])\n",
        "history_small_model = model.fit(\n",
        "    train_images, train_labels,\n",
        "    epochs=20,\n",
        "    batch_size=128,\n",
        "    validation_split=0.2)"
      ]
    },
    {
      "cell_type": "code",
      "execution_count": 8,
      "metadata": {
        "colab": {
          "base_uri": "https://localhost:8080/",
          "height": 313
        },
        "id": "iPuk6lBc82J-",
        "outputId": "b05a9534-aaa6-4054-dbed-0dac6dc5ea5f"
      },
      "outputs": [
        {
          "output_type": "execute_result",
          "data": {
            "text/plain": [
              "<matplotlib.legend.Legend at 0x7f517954b4d0>"
            ]
          },
          "metadata": {},
          "execution_count": 8
        },
        {
          "output_type": "display_data",
          "data": {
            "text/plain": [
              "<Figure size 432x288 with 1 Axes>"
            ],
            "image/png": "[encoded data removed]"
          },
          "metadata": {
            "needs_background": "light"
          }
        }
      ],
      "source": [
        "import matplotlib.pyplot as plt\n",
        "val_loss = history_small_model.history[\"val_loss\"]\n",
        "epochs = range(1, 21)\n",
        "plt.plot(epochs, val_loss, \"b--\",\n",
        "         label=\"Validation loss\")\n",
        "plt.title(\"Effect of insufficient model capacity on validation loss\")\n",
        "plt.xlabel(\"Epochs\")\n",
        "plt.ylabel(\"Loss\")\n",
        "plt.legend()"
      ]
    },
    {
      "cell_type": "code",
      "execution_count": 9,
      "metadata": {
        "colab": {
          "base_uri": "https://localhost:8080/"
        },
        "id": "DB8fqZ4h82J-",
        "outputId": "b7f90de2-a134-4680-86b2-ec71caec6fe4"
      },
      "outputs": [
        {
          "output_type": "stream",
          "name": "stdout",
          "text": [
            "Epoch 1/20\n",
            "375/375 [==============================] - 2s 4ms/step - loss: 0.3666 - accuracy: 0.8964 - val_loss: 0.1752 - val_accuracy: 0.9507\n",
            "Epoch 2/20\n",
            "375/375 [==============================] - 1s 4ms/step - loss: 0.1648 - accuracy: 0.9514 - val_loss: 0.1478 - val_accuracy: 0.9554\n",
            "Epoch 3/20\n",
            "375/375 [==============================] - 1s 3ms/step - loss: 0.1150 - accuracy: 0.9654 - val_loss: 0.1286 - val_accuracy: 0.9619\n",
            "Epoch 4/20\n",
            "375/375 [==============================] - 1s 4ms/step - loss: 0.0876 - accuracy: 0.9731 - val_loss: 0.1022 - val_accuracy: 0.9696\n",
            "Epoch 5/20\n",
            "375/375 [==============================] - 1s 4ms/step - loss: 0.0689 - accuracy: 0.9791 - val_loss: 0.0951 - val_accuracy: 0.9711\n",
            "Epoch 6/20\n",
            "375/375 [==============================] - 1s 4ms/step - loss: 0.0558 - accuracy: 0.9822 - val_loss: 0.0920 - val_accuracy: 0.9738\n",
            "Epoch 7/20\n",
            "375/375 [==============================] - 1s 3ms/step - loss: 0.0469 - accuracy: 0.9856 - val_loss: 0.0988 - val_accuracy: 0.9720\n",
            "Epoch 8/20\n",
            "375/375 [==============================] - 1s 4ms/step - loss: 0.0380 - accuracy: 0.9884 - val_loss: 0.0980 - val_accuracy: 0.9740\n",
            "Epoch 9/20\n",
            "375/375 [==============================] - 1s 3ms/step - loss: 0.0321 - accuracy: 0.9902 - val_loss: 0.0910 - val_accuracy: 0.9760\n",
            "Epoch 10/20\n",
            "375/375 [==============================] - 1s 4ms/step - loss: 0.0269 - accuracy: 0.9913 - val_loss: 0.1059 - val_accuracy: 0.9745\n",
            "Epoch 11/20\n",
            "375/375 [==============================] - 1s 3ms/step - loss: 0.0230 - accuracy: 0.9932 - val_loss: 0.1113 - val_accuracy: 0.9725\n",
            "Epoch 12/20\n",
            "375/375 [==============================] - 1s 3ms/step - loss: 0.0192 - accuracy: 0.9938 - val_loss: 0.1113 - val_accuracy: 0.9746\n",
            "Epoch 13/20\n",
            "375/375 [==============================] - 1s 3ms/step - loss: 0.0156 - accuracy: 0.9950 - val_loss: 0.1115 - val_accuracy: 0.9740\n",
            "Epoch 14/20\n",
            "375/375 [==============================] - 1s 4ms/step - loss: 0.0134 - accuracy: 0.9958 - val_loss: 0.1180 - val_accuracy: 0.9752\n",
            "Epoch 15/20\n",
            "375/375 [==============================] - 1s 3ms/step - loss: 0.0112 - accuracy: 0.9965 - val_loss: 0.1165 - val_accuracy: 0.9754\n",
            "Epoch 16/20\n",
            "375/375 [==============================] - 1s 3ms/step - loss: 0.0099 - accuracy: 0.9968 - val_loss: 0.1201 - val_accuracy: 0.9760\n",
            "Epoch 17/20\n",
            "375/375 [==============================] - 1s 3ms/step - loss: 0.0083 - accuracy: 0.9972 - val_loss: 0.1238 - val_accuracy: 0.9760\n",
            "Epoch 18/20\n",
            "375/375 [==============================] - 1s 3ms/step - loss: 0.0070 - accuracy: 0.9978 - val_loss: 0.1420 - val_accuracy: 0.9738\n",
            "Epoch 19/20\n",
            "375/375 [==============================] - 1s 4ms/step - loss: 0.0062 - accuracy: 0.9979 - val_loss: 0.1377 - val_accuracy: 0.9744\n",
            "Epoch 20/20\n",
            "375/375 [==============================] - 1s 3ms/step - loss: 0.0057 - accuracy: 0.9983 - val_loss: 0.1500 - val_accuracy: 0.9727\n"
          ]
        }
      ],
      "source": [
        "model = keras.Sequential([\n",
        "    layers.Dense(96, activation=\"relu\"),\n",
        "    layers.Dense(96, activation=\"relu\"),\n",
        "    layers.Dense(10, activation=\"softmax\"),\n",
        "])\n",
        "model.compile(optimizer=\"rmsprop\",\n",
        "              loss=\"sparse_categorical_crossentropy\",\n",
        "              metrics=[\"accuracy\"])\n",
        "history_large_model = model.fit(\n",
        "    train_images, train_labels,\n",
        "    epochs=20,\n",
        "    batch_size=128,\n",
        "    validation_split=0.2)"
      ]
    },
    {
      "cell_type": "markdown",
      "metadata": {
        "id": "6JMG_bcR82J-"
      },
      "source": [
        "## Improving generalization"
      ]
    },
    {
      "cell_type": "markdown",
      "metadata": {
        "id": "cPdSwlX382J_"
      },
      "source": [
        "### Dataset curation"
      ]
    },
    {
      "cell_type": "markdown",
      "metadata": {
        "id": "Qtx_LQYS82J_"
      },
      "source": [
        "### Feature engineering"
      ]
    },
    {
      "cell_type": "markdown",
      "metadata": {
        "id": "rDcoy33r82J_"
      },
      "source": [
        "### Using early stopping"
      ]
    },
    {
      "cell_type": "markdown",
      "metadata": {
        "id": "depwIIZk82J_"
      },
      "source": [
        "### Regularizing your model"
      ]
    },
    {
      "cell_type": "markdown",
      "metadata": {
        "id": "fnOoLyvZ82J_"
      },
      "source": [
        "#### Reducing the network's size"
      ]
    },
    {
      "cell_type": "markdown",
      "metadata": {
        "id": "GRFjmsED82J_"
      },
      "source": [
        "**Original model**"
      ]
    },
    {
      "cell_type": "code",
      "execution_count": 10,
      "metadata": {
        "colab": {
          "base_uri": "https://localhost:8080/"
        },
        "id": "ngA_E2_E82J_",
        "outputId": "4da8ee91-ed80-4e2b-a9db-537a25bc6e26"
      },
      "outputs": [
        {
          "output_type": "stream",
          "name": "stdout",
          "text": [
            "Downloading data from https://storage.googleapis.com/tensorflow/tf-keras-datasets/imdb.npz\n",
            "17465344/17464789 [==============================] - 0s 0us/step\n",
            "17473536/17464789 [==============================] - 0s 0us/step\n",
            "Epoch 1/20\n",
            "30/30 [==============================] - 2s 39ms/step - loss: 0.5065 - accuracy: 0.7919 - val_loss: 0.3799 - val_accuracy: 0.8747\n",
            "Epoch 2/20\n",
            "30/30 [==============================] - 1s 19ms/step - loss: 0.2972 - accuracy: 0.9057 - val_loss: 0.2967 - val_accuracy: 0.8908\n",
            "Epoch 3/20\n",
            "30/30 [==============================] - 1s 20ms/step - loss: 0.2209 - accuracy: 0.9244 - val_loss: 0.2822 - val_accuracy: 0.8910\n",
            "Epoch 4/20\n",
            "30/30 [==============================] - 1s 19ms/step - loss: 0.1687 - accuracy: 0.9481 - val_loss: 0.2737 - val_accuracy: 0.8914\n",
            "Epoch 5/20\n",
            "30/30 [==============================] - 1s 20ms/step - loss: 0.1385 - accuracy: 0.9574 - val_loss: 0.2816 - val_accuracy: 0.8891\n",
            "Epoch 6/20\n",
            "30/30 [==============================] - 1s 20ms/step - loss: 0.1141 - accuracy: 0.9643 - val_loss: 0.3044 - val_accuracy: 0.8843\n",
            "Epoch 7/20\n",
            "30/30 [==============================] - 1s 19ms/step - loss: 0.0926 - accuracy: 0.9736 - val_loss: 0.3326 - val_accuracy: 0.8792\n",
            "Epoch 8/20\n",
            "30/30 [==============================] - 1s 20ms/step - loss: 0.0757 - accuracy: 0.9793 - val_loss: 0.3487 - val_accuracy: 0.8814\n",
            "Epoch 9/20\n",
            "30/30 [==============================] - 1s 20ms/step - loss: 0.0607 - accuracy: 0.9836 - val_loss: 0.3760 - val_accuracy: 0.8769\n",
            "Epoch 10/20\n",
            "30/30 [==============================] - 1s 21ms/step - loss: 0.0492 - accuracy: 0.9877 - val_loss: 0.4020 - val_accuracy: 0.8763\n",
            "Epoch 11/20\n",
            "30/30 [==============================] - 1s 20ms/step - loss: 0.0429 - accuracy: 0.9900 - val_loss: 0.4171 - val_accuracy: 0.8774\n",
            "Epoch 12/20\n",
            "30/30 [==============================] - 1s 19ms/step - loss: 0.0312 - accuracy: 0.9931 - val_loss: 0.4504 - val_accuracy: 0.8726\n",
            "Epoch 13/20\n",
            "30/30 [==============================] - 1s 20ms/step - loss: 0.0226 - accuracy: 0.9959 - val_loss: 0.4984 - val_accuracy: 0.8682\n",
            "Epoch 14/20\n",
            "30/30 [==============================] - 1s 20ms/step - loss: 0.0185 - accuracy: 0.9968 - val_loss: 0.5143 - val_accuracy: 0.8714\n",
            "Epoch 15/20\n",
            "30/30 [==============================] - 1s 20ms/step - loss: 0.0168 - accuracy: 0.9965 - val_loss: 0.5500 - val_accuracy: 0.8699\n",
            "Epoch 16/20\n",
            "30/30 [==============================] - 1s 19ms/step - loss: 0.0092 - accuracy: 0.9992 - val_loss: 0.7336 - val_accuracy: 0.8517\n",
            "Epoch 17/20\n",
            "30/30 [==============================] - 1s 20ms/step - loss: 0.0084 - accuracy: 0.9991 - val_loss: 0.6352 - val_accuracy: 0.8673\n",
            "Epoch 18/20\n",
            "30/30 [==============================] - 1s 20ms/step - loss: 0.0082 - accuracy: 0.9986 - val_loss: 0.6565 - val_accuracy: 0.8681\n",
            "Epoch 19/20\n",
            "30/30 [==============================] - 1s 19ms/step - loss: 0.0036 - accuracy: 0.9998 - val_loss: 0.6976 - val_accuracy: 0.8677\n",
            "Epoch 20/20\n",
            "30/30 [==============================] - 1s 19ms/step - loss: 0.0067 - accuracy: 0.9985 - val_loss: 0.7423 - val_accuracy: 0.8675\n"
          ]
        }
      ],
      "source": [
        "from tensorflow.keras.datasets import imdb\n",
        "(train_data, train_labels), _ = imdb.load_data(num_words=10000)\n",
        "\n",
        "def vectorize_sequences(sequences, dimension=10000):\n",
        "    results = np.zeros((len(sequences), dimension))\n",
        "    for i, sequence in enumerate(sequences):\n",
        "        results[i, sequence] = 1.\n",
        "    return results\n",
        "train_data = vectorize_sequences(train_data)\n",
        "\n",
        "model = keras.Sequential([\n",
        "    layers.Dense(16, activation=\"relu\"),\n",
        "    layers.Dense(16, activation=\"relu\"),\n",
        "    layers.Dense(1, activation=\"sigmoid\")\n",
        "])\n",
        "model.compile(optimizer=\"rmsprop\",\n",
        "              loss=\"binary_crossentropy\",\n",
        "              metrics=[\"accuracy\"])\n",
        "history_original = model.fit(train_data, train_labels,\n",
        "                             epochs=20, batch_size=512, validation_split=0.4)"
      ]
    },
    {
      "cell_type": "markdown",
      "metadata": {
        "id": "gqkWCPJR82J_"
      },
      "source": [
        "**Version of the model with lower capacity**"
      ]
    },
    {
      "cell_type": "code",
      "execution_count": 11,
      "metadata": {
        "colab": {
          "base_uri": "https://localhost:8080/"
        },
        "id": "DSq_olKW82KA",
        "outputId": "5fd4cbff-f9ae-4c75-c7d5-1c2eb39e78bf"
      },
      "outputs": [
        {
          "output_type": "stream",
          "name": "stdout",
          "text": [
            "Epoch 1/20\n",
            "30/30 [==============================] - 2s 34ms/step - loss: 0.6399 - accuracy: 0.6535 - val_loss: 0.5995 - val_accuracy: 0.7381\n",
            "Epoch 2/20\n",
            "30/30 [==============================] - 1s 20ms/step - loss: 0.5655 - accuracy: 0.7647 - val_loss: 0.5576 - val_accuracy: 0.7447\n",
            "Epoch 3/20\n",
            "30/30 [==============================] - 1s 20ms/step - loss: 0.5203 - accuracy: 0.8159 - val_loss: 0.5260 - val_accuracy: 0.7996\n",
            "Epoch 4/20\n",
            "30/30 [==============================] - 1s 19ms/step - loss: 0.4847 - accuracy: 0.8537 - val_loss: 0.5056 - val_accuracy: 0.8092\n",
            "Epoch 5/20\n",
            "30/30 [==============================] - 1s 20ms/step - loss: 0.4552 - accuracy: 0.8789 - val_loss: 0.4855 - val_accuracy: 0.8632\n",
            "Epoch 6/20\n",
            "30/30 [==============================] - 1s 20ms/step - loss: 0.4315 - accuracy: 0.9003 - val_loss: 0.4737 - val_accuracy: 0.8524\n",
            "Epoch 7/20\n",
            "30/30 [==============================] - 1s 19ms/step - loss: 0.4104 - accuracy: 0.9127 - val_loss: 0.4643 - val_accuracy: 0.8595\n",
            "Epoch 8/20\n",
            "30/30 [==============================] - 1s 20ms/step - loss: 0.3914 - accuracy: 0.9267 - val_loss: 0.4692 - val_accuracy: 0.8444\n",
            "Epoch 9/20\n",
            "30/30 [==============================] - 1s 20ms/step - loss: 0.3751 - accuracy: 0.9349 - val_loss: 0.4523 - val_accuracy: 0.8661\n",
            "Epoch 10/20\n",
            "30/30 [==============================] - 1s 20ms/step - loss: 0.3600 - accuracy: 0.9426 - val_loss: 0.4551 - val_accuracy: 0.8601\n",
            "Epoch 11/20\n",
            "30/30 [==============================] - 1s 23ms/step - loss: 0.3460 - accuracy: 0.9487 - val_loss: 0.4573 - val_accuracy: 0.8586\n",
            "Epoch 12/20\n",
            "30/30 [==============================] - 1s 19ms/step - loss: 0.3330 - accuracy: 0.9564 - val_loss: 0.4547 - val_accuracy: 0.8622\n",
            "Epoch 13/20\n",
            "30/30 [==============================] - 1s 19ms/step - loss: 0.3212 - accuracy: 0.9619 - val_loss: 0.4428 - val_accuracy: 0.8718\n",
            "Epoch 14/20\n",
            "30/30 [==============================] - 1s 20ms/step - loss: 0.3098 - accuracy: 0.9664 - val_loss: 0.4466 - val_accuracy: 0.8677\n",
            "Epoch 15/20\n",
            "30/30 [==============================] - 1s 20ms/step - loss: 0.2991 - accuracy: 0.9711 - val_loss: 0.4418 - val_accuracy: 0.8731\n",
            "Epoch 16/20\n",
            "30/30 [==============================] - 1s 19ms/step - loss: 0.2891 - accuracy: 0.9743 - val_loss: 0.4782 - val_accuracy: 0.8540\n",
            "Epoch 17/20\n",
            "30/30 [==============================] - 1s 19ms/step - loss: 0.2795 - accuracy: 0.9776 - val_loss: 0.4605 - val_accuracy: 0.8646\n",
            "Epoch 18/20\n",
            "30/30 [==============================] - 1s 20ms/step - loss: 0.2709 - accuracy: 0.9783 - val_loss: 0.4593 - val_accuracy: 0.8665\n",
            "Epoch 19/20\n",
            "30/30 [==============================] - 1s 20ms/step - loss: 0.2620 - accuracy: 0.9813 - val_loss: 0.4476 - val_accuracy: 0.8713\n",
            "Epoch 20/20\n",
            "30/30 [==============================] - 1s 19ms/step - loss: 0.2544 - accuracy: 0.9831 - val_loss: 0.4964 - val_accuracy: 0.8572\n"
          ]
        }
      ],
      "source": [
        "model = keras.Sequential([\n",
        "    layers.Dense(4, activation=\"relu\"),\n",
        "    layers.Dense(4, activation=\"relu\"),\n",
        "    layers.Dense(1, activation=\"sigmoid\")\n",
        "])\n",
        "model.compile(optimizer=\"rmsprop\",\n",
        "              loss=\"binary_crossentropy\",\n",
        "              metrics=[\"accuracy\"])\n",
        "history_smaller_model = model.fit(\n",
        "    train_data, train_labels,\n",
        "    epochs=20, batch_size=512, validation_split=0.4)"
      ]
    },
    {
      "cell_type": "markdown",
      "metadata": {
        "id": "kdaL6U1182KA"
      },
      "source": [
        "**Version of the model with higher capacity**"
      ]
    },
    {
      "cell_type": "code",
      "execution_count": 12,
      "metadata": {
        "colab": {
          "base_uri": "https://localhost:8080/"
        },
        "id": "LAp2bJp882KA",
        "outputId": "b7518beb-a049-420b-ca51-e66cfe68ceb2"
      },
      "outputs": [
        {
          "output_type": "stream",
          "name": "stdout",
          "text": [
            "Epoch 1/20\n",
            "30/30 [==============================] - 2s 40ms/step - loss: 0.5412 - accuracy: 0.7509 - val_loss: 0.4648 - val_accuracy: 0.7851\n",
            "Epoch 2/20\n",
            "30/30 [==============================] - 1s 24ms/step - loss: 0.2551 - accuracy: 0.8981 - val_loss: 0.2651 - val_accuracy: 0.8950\n",
            "Epoch 3/20\n",
            "30/30 [==============================] - 1s 24ms/step - loss: 0.1630 - accuracy: 0.9381 - val_loss: 0.2872 - val_accuracy: 0.8908\n",
            "Epoch 4/20\n",
            "30/30 [==============================] - 1s 23ms/step - loss: 0.0934 - accuracy: 0.9709 - val_loss: 0.4328 - val_accuracy: 0.8561\n",
            "Epoch 5/20\n",
            "30/30 [==============================] - 1s 23ms/step - loss: 0.0909 - accuracy: 0.9769 - val_loss: 0.3056 - val_accuracy: 0.8877\n",
            "Epoch 6/20\n",
            "30/30 [==============================] - 1s 23ms/step - loss: 0.0074 - accuracy: 0.9997 - val_loss: 0.5203 - val_accuracy: 0.8849\n",
            "Epoch 7/20\n",
            "30/30 [==============================] - 1s 23ms/step - loss: 0.0614 - accuracy: 0.9925 - val_loss: 0.9994 - val_accuracy: 0.8215\n",
            "Epoch 8/20\n",
            "30/30 [==============================] - 1s 23ms/step - loss: 0.0034 - accuracy: 0.9991 - val_loss: 0.5614 - val_accuracy: 0.8837\n",
            "Epoch 9/20\n",
            "30/30 [==============================] - 1s 23ms/step - loss: 3.5055e-04 - accuracy: 1.0000 - val_loss: 0.6718 - val_accuracy: 0.8819\n",
            "Epoch 10/20\n",
            "30/30 [==============================] - 1s 23ms/step - loss: 1.0265e-04 - accuracy: 1.0000 - val_loss: 0.7567 - val_accuracy: 0.8827\n",
            "Epoch 11/20\n",
            "30/30 [==============================] - 1s 23ms/step - loss: 2.5276e-05 - accuracy: 1.0000 - val_loss: 0.8598 - val_accuracy: 0.8844\n",
            "Epoch 12/20\n",
            "30/30 [==============================] - 1s 26ms/step - loss: 5.9874e-06 - accuracy: 1.0000 - val_loss: 0.9645 - val_accuracy: 0.8839\n",
            "Epoch 13/20\n",
            "30/30 [==============================] - 1s 23ms/step - loss: 1.6064e-06 - accuracy: 1.0000 - val_loss: 1.0421 - val_accuracy: 0.8846\n",
            "Epoch 14/20\n",
            "30/30 [==============================] - 1s 23ms/step - loss: 5.2541e-07 - accuracy: 1.0000 - val_loss: 1.1180 - val_accuracy: 0.8846\n",
            "Epoch 15/20\n",
            "30/30 [==============================] - 1s 23ms/step - loss: 1.8939e-07 - accuracy: 1.0000 - val_loss: 1.1789 - val_accuracy: 0.8846\n",
            "Epoch 16/20\n",
            "30/30 [==============================] - 1s 23ms/step - loss: 7.7365e-08 - accuracy: 1.0000 - val_loss: 1.2446 - val_accuracy: 0.8846\n",
            "Epoch 17/20\n",
            "30/30 [==============================] - 1s 23ms/step - loss: 3.8400e-08 - accuracy: 1.0000 - val_loss: 1.2905 - val_accuracy: 0.8840\n",
            "Epoch 18/20\n",
            "30/30 [==============================] - 1s 23ms/step - loss: 2.3305e-08 - accuracy: 1.0000 - val_loss: 1.3160 - val_accuracy: 0.8850\n",
            "Epoch 19/20\n",
            "30/30 [==============================] - 1s 24ms/step - loss: 1.6433e-08 - accuracy: 1.0000 - val_loss: 1.3369 - val_accuracy: 0.8848\n",
            "Epoch 20/20\n",
            "30/30 [==============================] - 1s 23ms/step - loss: 1.2697e-08 - accuracy: 1.0000 - val_loss: 1.3534 - val_accuracy: 0.8848\n"
          ]
        }
      ],
      "source": [
        "model = keras.Sequential([\n",
        "    layers.Dense(512, activation=\"relu\"),\n",
        "    layers.Dense(512, activation=\"relu\"),\n",
        "    layers.Dense(1, activation=\"sigmoid\")\n",
        "])\n",
        "model.compile(optimizer=\"rmsprop\",\n",
        "              loss=\"binary_crossentropy\",\n",
        "              metrics=[\"accuracy\"])\n",
        "history_larger_model = model.fit(\n",
        "    train_data, train_labels,\n",
        "    epochs=20, batch_size=512, validation_split=0.4)"
      ]
    },
    {
      "cell_type": "markdown",
      "metadata": {
        "id": "0uxycORs82KA"
      },
      "source": [
        "#### Adding weight regularization"
      ]
    },
    {
      "cell_type": "markdown",
      "metadata": {
        "id": "sFtuMRTQ82KA"
      },
      "source": [
        "**Adding L2 weight regularization to the model**"
      ]
    },
    {
      "cell_type": "code",
      "execution_count": 13,
      "metadata": {
        "colab": {
          "base_uri": "https://localhost:8080/"
        },
        "id": "RuiMQL5482KA",
        "outputId": "112ed0bb-6116-4ed1-8629-593805b0cfc0"
      },
      "outputs": [
        {
          "output_type": "stream",
          "name": "stdout",
          "text": [
            "Epoch 1/20\n",
            "30/30 [==============================] - 2s 36ms/step - loss: 0.5928 - accuracy: 0.7752 - val_loss: 0.4573 - val_accuracy: 0.8738\n",
            "Epoch 2/20\n",
            "30/30 [==============================] - 1s 20ms/step - loss: 0.3918 - accuracy: 0.8944 - val_loss: 0.4246 - val_accuracy: 0.8549\n",
            "Epoch 3/20\n",
            "30/30 [==============================] - 1s 20ms/step - loss: 0.3248 - accuracy: 0.9160 - val_loss: 0.3648 - val_accuracy: 0.8858\n",
            "Epoch 4/20\n",
            "30/30 [==============================] - 1s 22ms/step - loss: 0.2943 - accuracy: 0.9253 - val_loss: 0.3546 - val_accuracy: 0.8894\n",
            "Epoch 5/20\n",
            "30/30 [==============================] - 1s 20ms/step - loss: 0.2753 - accuracy: 0.9326 - val_loss: 0.3560 - val_accuracy: 0.8881\n",
            "Epoch 6/20\n",
            "30/30 [==============================] - 1s 20ms/step - loss: 0.2642 - accuracy: 0.9380 - val_loss: 0.3580 - val_accuracy: 0.8858\n",
            "Epoch 7/20\n",
            "30/30 [==============================] - 1s 20ms/step - loss: 0.2453 - accuracy: 0.9441 - val_loss: 0.3655 - val_accuracy: 0.8815\n",
            "Epoch 8/20\n",
            "30/30 [==============================] - 1s 20ms/step - loss: 0.2456 - accuracy: 0.9421 - val_loss: 0.3705 - val_accuracy: 0.8807\n",
            "Epoch 9/20\n",
            "30/30 [==============================] - 1s 24ms/step - loss: 0.2343 - accuracy: 0.9484 - val_loss: 0.4006 - val_accuracy: 0.8725\n",
            "Epoch 10/20\n",
            "30/30 [==============================] - 1s 20ms/step - loss: 0.2301 - accuracy: 0.9499 - val_loss: 0.3936 - val_accuracy: 0.8746\n",
            "Epoch 11/20\n",
            "30/30 [==============================] - 1s 21ms/step - loss: 0.2284 - accuracy: 0.9475 - val_loss: 0.4593 - val_accuracy: 0.8516\n",
            "Epoch 12/20\n",
            "30/30 [==============================] - 1s 21ms/step - loss: 0.2217 - accuracy: 0.9522 - val_loss: 0.3945 - val_accuracy: 0.8766\n",
            "Epoch 13/20\n",
            "30/30 [==============================] - 1s 20ms/step - loss: 0.2158 - accuracy: 0.9543 - val_loss: 0.4187 - val_accuracy: 0.8708\n",
            "Epoch 14/20\n",
            "30/30 [==============================] - 1s 20ms/step - loss: 0.2103 - accuracy: 0.9558 - val_loss: 0.3940 - val_accuracy: 0.8783\n",
            "Epoch 15/20\n",
            "30/30 [==============================] - 1s 20ms/step - loss: 0.2159 - accuracy: 0.9541 - val_loss: 0.4024 - val_accuracy: 0.8778\n",
            "Epoch 16/20\n",
            "30/30 [==============================] - 1s 20ms/step - loss: 0.2085 - accuracy: 0.9575 - val_loss: 0.3972 - val_accuracy: 0.8759\n",
            "Epoch 17/20\n",
            "30/30 [==============================] - 1s 20ms/step - loss: 0.2053 - accuracy: 0.9583 - val_loss: 0.4010 - val_accuracy: 0.8780\n",
            "Epoch 18/20\n",
            "30/30 [==============================] - 1s 20ms/step - loss: 0.1987 - accuracy: 0.9609 - val_loss: 0.4142 - val_accuracy: 0.8748\n",
            "Epoch 19/20\n",
            "30/30 [==============================] - 1s 20ms/step - loss: 0.2064 - accuracy: 0.9547 - val_loss: 0.5092 - val_accuracy: 0.8447\n",
            "Epoch 20/20\n",
            "30/30 [==============================] - 1s 20ms/step - loss: 0.1958 - accuracy: 0.9627 - val_loss: 0.4493 - val_accuracy: 0.8635\n"
          ]
        }
      ],
      "source": [
        "from tensorflow.keras import regularizers\n",
        "model = keras.Sequential([\n",
        "    layers.Dense(16,\n",
        "                 kernel_regularizer=regularizers.l2(0.002),\n",
        "                 activation=\"relu\"),\n",
        "    layers.Dense(16,\n",
        "                 kernel_regularizer=regularizers.l2(0.002),\n",
        "                 activation=\"relu\"),\n",
        "    layers.Dense(1, activation=\"sigmoid\")\n",
        "])\n",
        "model.compile(optimizer=\"rmsprop\",\n",
        "              loss=\"binary_crossentropy\",\n",
        "              metrics=[\"accuracy\"])\n",
        "history_l2_reg = model.fit(\n",
        "    train_data, train_labels,\n",
        "    epochs=20, batch_size=512, validation_split=0.4)"
      ]
    },
    {
      "cell_type": "markdown",
      "metadata": {
        "id": "cDo-do6W82KB"
      },
      "source": [
        "**Different weight regularizers available in Keras**"
      ]
    },
    {
      "cell_type": "code",
      "execution_count": 14,
      "metadata": {
        "colab": {
          "base_uri": "https://localhost:8080/"
        },
        "id": "Q8SDNAEs82KB",
        "outputId": "00c3b8f5-b0d7-4cc3-f23f-c1e536f11c21"
      },
      "outputs": [
        {
          "output_type": "execute_result",
          "data": {
            "text/plain": [
              "<keras.regularizers.L1L2 at 0x7f5106c47f90>"
            ]
          },
          "metadata": {},
          "execution_count": 14
        }
      ],
      "source": [
        "from tensorflow.keras import regularizers\n",
        "regularizers.l1(0.001)\n",
        "regularizers.l1_l2(l1=0.001, l2=0.001)"
      ]
    },
    {
      "cell_type": "markdown",
      "metadata": {
        "id": "t8N4GR1W82KB"
      },
      "source": [
        "#### Adding dropout"
      ]
    },
    {
      "cell_type": "markdown",
      "metadata": {
        "id": "yrxGj8Ke82KB"
      },
      "source": [
        "**Adding dropout to the IMDB model**"
      ]
    },
    {
      "cell_type": "code",
      "execution_count": 15,
      "metadata": {
        "colab": {
          "base_uri": "https://localhost:8080/"
        },
        "id": "aaJd3R5m82KB",
        "outputId": "9065c38a-8d41-45f8-d42e-92e612fa75e4"
      },
      "outputs": [
        {
          "output_type": "stream",
          "name": "stdout",
          "text": [
            "Epoch 1/20\n",
            "30/30 [==============================] - 2s 35ms/step - loss: 0.6290 - accuracy: 0.6433 - val_loss: 0.5237 - val_accuracy: 0.8484\n",
            "Epoch 2/20\n",
            "30/30 [==============================] - 1s 20ms/step - loss: 0.5095 - accuracy: 0.7717 - val_loss: 0.4174 - val_accuracy: 0.8785\n",
            "Epoch 3/20\n",
            "30/30 [==============================] - 1s 20ms/step - loss: 0.4359 - accuracy: 0.8244 - val_loss: 0.3606 - val_accuracy: 0.8760\n",
            "Epoch 4/20\n",
            "30/30 [==============================] - 1s 20ms/step - loss: 0.3804 - accuracy: 0.8607 - val_loss: 0.3178 - val_accuracy: 0.8898\n",
            "Epoch 5/20\n",
            "30/30 [==============================] - 1s 20ms/step - loss: 0.3317 - accuracy: 0.8885 - val_loss: 0.2939 - val_accuracy: 0.8912\n",
            "Epoch 6/20\n",
            "30/30 [==============================] - 1s 20ms/step - loss: 0.2967 - accuracy: 0.9026 - val_loss: 0.2892 - val_accuracy: 0.8906\n",
            "Epoch 7/20\n",
            "30/30 [==============================] - 1s 19ms/step - loss: 0.2696 - accuracy: 0.9142 - val_loss: 0.2787 - val_accuracy: 0.8868\n",
            "Epoch 8/20\n",
            "30/30 [==============================] - 1s 20ms/step - loss: 0.2427 - accuracy: 0.9225 - val_loss: 0.2780 - val_accuracy: 0.8926\n",
            "Epoch 9/20\n",
            "30/30 [==============================] - 1s 20ms/step - loss: 0.2214 - accuracy: 0.9309 - val_loss: 0.2936 - val_accuracy: 0.8883\n",
            "Epoch 10/20\n",
            "30/30 [==============================] - 1s 20ms/step - loss: 0.1959 - accuracy: 0.9380 - val_loss: 0.2938 - val_accuracy: 0.8910\n",
            "Epoch 11/20\n",
            "30/30 [==============================] - 1s 20ms/step - loss: 0.1781 - accuracy: 0.9434 - val_loss: 0.3037 - val_accuracy: 0.8910\n",
            "Epoch 12/20\n",
            "30/30 [==============================] - 1s 20ms/step - loss: 0.1638 - accuracy: 0.9468 - val_loss: 0.3308 - val_accuracy: 0.8897\n",
            "Epoch 13/20\n",
            "30/30 [==============================] - 1s 20ms/step - loss: 0.1510 - accuracy: 0.9506 - val_loss: 0.3551 - val_accuracy: 0.8882\n",
            "Epoch 14/20\n",
            "30/30 [==============================] - 1s 20ms/step - loss: 0.1356 - accuracy: 0.9580 - val_loss: 0.3668 - val_accuracy: 0.8887\n",
            "Epoch 15/20\n",
            "30/30 [==============================] - 1s 20ms/step - loss: 0.1288 - accuracy: 0.9579 - val_loss: 0.4147 - val_accuracy: 0.8875\n",
            "Epoch 16/20\n",
            "30/30 [==============================] - 1s 20ms/step - loss: 0.1171 - accuracy: 0.9607 - val_loss: 0.4540 - val_accuracy: 0.8836\n",
            "Epoch 17/20\n",
            "30/30 [==============================] - 1s 20ms/step - loss: 0.1089 - accuracy: 0.9631 - val_loss: 0.4654 - val_accuracy: 0.8877\n",
            "Epoch 18/20\n",
            "30/30 [==============================] - 1s 21ms/step - loss: 0.1033 - accuracy: 0.9639 - val_loss: 0.4586 - val_accuracy: 0.8874\n",
            "Epoch 19/20\n",
            "30/30 [==============================] - 1s 20ms/step - loss: 0.0995 - accuracy: 0.9664 - val_loss: 0.4934 - val_accuracy: 0.8866\n",
            "Epoch 20/20\n",
            "30/30 [==============================] - 1s 20ms/step - loss: 0.0973 - accuracy: 0.9661 - val_loss: 0.5165 - val_accuracy: 0.8872\n"
          ]
        }
      ],
      "source": [
        "model = keras.Sequential([\n",
        "    layers.Dense(16, activation=\"relu\"),\n",
        "    layers.Dropout(0.5),\n",
        "    layers.Dense(16, activation=\"relu\"),\n",
        "    layers.Dropout(0.5),\n",
        "    layers.Dense(1, activation=\"sigmoid\")\n",
        "])\n",
        "model.compile(optimizer=\"rmsprop\",\n",
        "              loss=\"binary_crossentropy\",\n",
        "              metrics=[\"accuracy\"])\n",
        "history_dropout = model.fit(\n",
        "    train_data, train_labels,\n",
        "    epochs=20, batch_size=512, validation_split=0.4)"
      ]
    },
    {
      "cell_type": "markdown",
      "metadata": {
        "id": "j1L9NV_x82KB"
      },
      "source": [
        "## Summary"
      ]
    }
  ],
  "metadata": {
    "colab": {
      "collapsed_sections": [],
      "provenance": []
    },
    "kernelspec": {
      "display_name": "Python 3",
      "language": "python",
      "name": "python3"
    },
    "language_info": {
      "codemirror_mode": {
        "name": "ipython",
        "version": 3
      },
      "file_extension": ".py",
      "mimetype": "text/x-python",
      "name": "python",
      "nbconvert_exporter": "python",
      "pygments_lexer": "ipython3",
      "version": "3.7.0"
    },
    "accelerator": "GPU"
  },
  "nbformat": 4,
  "nbformat_minor": 0
}